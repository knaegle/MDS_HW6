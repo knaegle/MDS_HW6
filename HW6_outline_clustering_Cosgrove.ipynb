{
 "cells": [
  {
   "cell_type": "code",
   "execution_count": 1,
   "metadata": {},
   "outputs": [],
   "source": [
    "import pandas as pd\n",
    "from sklearn.cross_decomposition import PLSRegression\n",
    "import numpy as np\n",
    "\n",
    "import matplotlib.pyplot as plt\n",
    "\n",
    "from sklearn import cluster"
   ]
  },
  {
   "cell_type": "code",
   "execution_count": 2,
   "metadata": {},
   "outputs": [],
   "source": [
    "X = pd.read_csv('Cosgrove_X_zscore_appended.csv', index_col=0)\n",
    "Y = pd.read_csv('Cosgrove_Y_zscore.csv', index_col = 0)"
   ]
  },
  {
   "cell_type": "code",
   "execution_count": 3,
   "metadata": {},
   "outputs": [],
   "source": [
    "# PLSR with 4 principal components\n",
    "ncomp = 4\n",
    "pls = PLSRegression(n_components=ncomp)\n",
    "pls.fit(X, Y)\n",
    "\n",
    "#loadings, scores, and coefficients are part of the pls class \n",
    "#example, x_loadings\n",
    "x_loadings = pls.x_loadings_\n",
    "\n",
    "#get percent variance explained in X\n",
    "total_variance_in_x = np.var(X, axis = 0)\n",
    "variance_in_x = np.var(pls.x_scores_, axis = 0) \n",
    "fractions_of_explained_variance_x = variance_in_x / sum(total_variance_in_x)\n",
    "\n",
    "\n",
    "#find the predicted outputs \n",
    "y_fit = pls.predict(X)\n",
    "\n",
    "x_scores = pls.x_scores_\n"
   ]
  },
  {
   "cell_type": "code",
   "execution_count": 4,
   "metadata": {},
   "outputs": [
    {
     "data": {
      "text/plain": [
       "<matplotlib.collections.PathCollection at 0x1a20374e10>"
      ]
     },
     "execution_count": 4,
     "metadata": {},
     "output_type": "execute_result"
    },
    {
     "data": {
      "image/png": "[encoded data removed]",
      "text/plain": [
       "<Figure size 432x288 with 1 Axes>"
      ]
     },
     "metadata": {
      "needs_background": "light"
     },
     "output_type": "display_data"
    }
   ],
   "source": [
    "#Plotting the data in X on the first two principal components of the PLSR\n",
    "plt.scatter(x_scores[:,0], x_scores[:,1])"
   ]
  },
  {
   "cell_type": "code",
   "execution_count": 5,
   "metadata": {},
   "outputs": [],
   "source": [
    "# cluster the data\n",
    "kmeans = cluster.KMeans(n_clusters=7, random_state=0).fit(X) #set the random state so it gives you the same result each time.\n",
    "cInd = kmeans.labels_\n",
    "ctrds = kmeans.cluster_centers_\n",
    "\n"
   ]
  },
  {
   "cell_type": "code",
   "execution_count": 6,
   "metadata": {},
   "outputs": [
    {
     "data": {
      "text/plain": [
       "array([6, 6, 6, 6, 4, 1, 3, 6, 3, 6, 4, 1, 6, 6, 6, 6, 4, 1, 3, 3, 3, 2,\n",
       "       4, 1, 3, 3, 3, 3, 4, 1, 3, 6, 6, 3, 4, 1, 0, 0, 0, 0, 0, 0, 3, 3,\n",
       "       6, 6, 4, 1, 0, 0, 0, 0, 0, 0, 5, 5, 5, 5, 5, 5, 2, 2, 2, 2, 2, 2],\n",
       "      dtype=int32)"
      ]
     },
     "execution_count": 6,
     "metadata": {},
     "output_type": "execute_result"
    }
   ],
   "source": [
    "#kmeans.labels_ contains the assignment of label classes\n",
    "cInd"
   ]
  },
  {
   "cell_type": "code",
   "execution_count": null,
   "metadata": {},
   "outputs": [],
   "source": []
  }
 ],
 "metadata": {
  "kernelspec": {
   "display_name": "Python 3",
   "language": "python",
   "name": "python3"
  },
  "language_info": {
   "codemirror_mode": {
    "name": "ipython",
    "version": 3
   },
   "file_extension": ".py",
   "mimetype": "text/x-python",
   "name": "python",
   "nbconvert_exporter": "python",
   "pygments_lexer": "ipython3",
   "version": "3.7.6"
  }
 },
 "nbformat": 4,
 "nbformat_minor": 2
}
